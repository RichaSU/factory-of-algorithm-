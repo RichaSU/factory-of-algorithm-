{
 "cells": [
  {
   "cell_type": "markdown",
   "metadata": {},
   "source": [
    " \n“Nous devons donc envisager l'état présent de l'univers, comme l'effet de son état antérieur, et comme la cause de celui qui va suivre. Une intelligence qui pour un instant donné, connaîtrait toutes les forces dont la Nature est animée, et la situation respective des êtres qui la composent, si d'ailleurs elle était assez vaste pour soumettre ces données à l'Analyse, embrasserait dans la même formule, les mouvements des plus grands corps de l'univers et ceux du plus léger atome : rien ne serait incertain pour elle, et l'avenir comme le présent serait présent à ses yeux.	”",
    "——Laplace，Essai philosophique des probabilités",
    " lots of different functions written on a document, after solving every single of them by coding. The reason of the enormous number of equations (combination of all possible functions existing) in a document, challenge to automate this task, so I found the pattern of all different equation, for example:  \n",
    " \n",
    " example equation : $FunctionA(\"something\", x, y<z, FunctionB(\"hello\", i, value, \"txt\"), FunctionB(\"allo\",h,j,\"fr\"),...)$  \n",
    " \n",
    " there's lots of combination of different functions(funA,funB,funC,...), so I need to find principal componant of a function, then tackle one by one. In the example above, **with our eyes** we can find easily the main componant of funcionA, they are:<br>\n",
    " $\"something\"$,<br>\n",
    " $x$,<br>\n",
    " $y<z$,<br>\n",
    " $FunctionB(...)$,<br>\n",
    " $FunctionB(...)$<br>\n",
    " $...$<br>\n",
    " they are NOT the componant of inner function, like: $\"hello\", i, value, \"txt\", \"allo\",h,j,\"fr\"$<br>\n",
    " So the question is how we human rapidly can decomposite it (at least in my case)? <br>\n",
    " i) we know obviously the functionA is end where <br>\n",
    " ii) and we identify wich comma are for FunctionA not for inner function<br>\n",
    " \n",
    " Here comes two tasks to tackle, please check the program below.  \n",
    " \n",
    " *here FunctionA, B,... are invented for demonstrate the main idea of my algorithm."
   ]
  },
  {
   "cell_type": "code",
   "execution_count": 4,
   "metadata": {},
   "outputs": [],
   "source": [
    "import pandas as pd\n",
    "import numpy as np\n",
    "import re"
   ]
  },
  {
   "cell_type": "code",
   "execution_count": 96,
   "metadata": {},
   "outputs": [],
   "source": [
    "# With commapos function I find all principal comma in a character string, by ignoring the comma in a inner bracket, so give \n",
    "# value -1 to left bracket (, value 1 to right bracket, so the sum of brackets should be 0 before a main comma\n",
    "def commapos(chain):\n",
    "    somme=[]\n",
    "    matches = re.finditer(\",\", chain) \n",
    "    all_pos = [match.start() for match in matches] # find all position of comma ,\n",
    "    for cut in all_pos: #cut the string before each comma\n",
    "        seg=chain[0:cut]\n",
    "        # in seg locate all position of left and right bracket \n",
    "        left = [match.start() for match in re.finditer(\"\\(\", seg)]\n",
    "        right = [match.start() for match in re.finditer(\"\\)\", seg)]\n",
    "        # if the seg is abc(ljl(w,x)),blablabla(hi),hello then close give -1 -1 1 1 -1 1\n",
    "        close=[x for _, x in sorted(zip(np.argsort(left+right),[-1]*len(left)+[1]*len(right)))] \n",
    "        somme=np.append(somme,sum(close))\n",
    "        \n",
    "    ind = [i for i,val in enumerate(somme) if val==0]\n",
    "    main_comma_pos=[all_pos[i] for i in ind]\n",
    "    return main_comma_pos"
   ]
  },
  {
   "cell_type": "markdown",
   "metadata": {},
   "source": [
    "the function bracketpos(chain) can find the first left bracket and its correspondant right bracket.<br>\n",
    "if the cahin is like **abc((fun(w,x)),blablabla(hi),hello)bye**<br>\n",
    "the cumsum will be -1,-1,-1,1,1,-1,1,1 ==> -1, -2, -3, -2, -1, -2, -1,  0 <br>\n",
    "meaning the postion of value 0 will close the bracket."
   ]
  },
  {
   "cell_type": "code",
   "execution_count": 97,
   "metadata": {},
   "outputs": [],
   "source": [
    "def bracketpos(chain):\n",
    "    left = [match.start() for match in re.finditer(\"\\(\", chain)]\n",
    "    right = [match.start() for match in re.finditer(\"\\)\", chain)]\n",
    "    close=[x for _, x in sorted(zip(np.argsort(left+right),[-1]*len(left)+[1]*len(right)))]\n",
    "    cumsomme=np.cumsum(close) \n",
    "    ind=[i for i,val in enumerate(cumsomme) if val==0][0]\n",
    "    right=np.sort(left+right)[ind]\n",
    "    left=left[0]\n",
    "    return([left,right])"
   ]
  },
  {
   "cell_type": "markdown",
   "metadata": {},
   "source": [
    "Now we can call two functions above to do the decomposition."
   ]
  },
  {
   "cell_type": "code",
   "execution_count": 98,
   "metadata": {},
   "outputs": [],
   "source": [
    "def main_comp(chain):\n",
    "    bpos=bracketpos(chain) # main bracket position (index)\n",
    "    chain=chain[bpos[0]+1:bpos[1]]\n",
    "    cpos=commapos(chain) # main comma positon\n",
    "    v1=[0]+np.add(cpos, 1).tolist()\n",
    "    v2=cpos+[len(chain)]\n",
    "    l=len(cpos)\n",
    "    comp=[]\n",
    "    for i in range(l+1):\n",
    "        comp=np.append(comp,chain[v1[i]:v2[i]].strip())\n",
    "    return(comp.tolist())\n",
    "    \n",
    "    "
   ]
  },
  {
   "cell_type": "code",
   "execution_count": 99,
   "metadata": {
    "scrolled": false
   },
   "outputs": [
    {
     "data": {
      "text/plain": [
       "['“something“',\n",
       " 'x',\n",
       " 'y<z',\n",
       " 'FunctionB(“hello“, i, value, “txt“)',\n",
       " 'FunctionB(“allo“,h,j,“fr“)',\n",
       " '...',\n",
       " 'FunctionC(quoi.etc)']"
      ]
     },
     "execution_count": 99,
     "metadata": {},
     "output_type": "execute_result"
    }
   ],
   "source": [
    "main_comp(\"FunctionA(“something“, x, y<z, FunctionB(“hello“, i, value, “txt“), FunctionB(“allo“,h,j,“fr“),...,FunctionC(quoi.etc))\")"
   ]
  },
  {
   "cell_type": "markdown",
   "metadata": {},
   "source": [
    "So what I did was automatically solve all equation in a document by just giving the solution of different functions (ex:if there are only 20 different function, then 20 solutions). I update the program if there are new function.<br>"
   ]
  }
 ],
 "metadata": {
  "hide_input": false,
  "kernelspec": {
   "display_name": "Python 3",
   "language": "python",
   "name": "python3"
  },
  "language_info": {
   "codemirror_mode": {
    "name": "ipython",
    "version": 3
   },
   "file_extension": ".py",
   "mimetype": "text/x-python",
   "name": "python",
   "nbconvert_exporter": "python",
   "pygments_lexer": "ipython3",
   "version": "3.7.6"
  }
 },
 "nbformat": 4,
 "nbformat_minor": 4
}
